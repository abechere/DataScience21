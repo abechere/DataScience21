{
 "cells": [
  {
   "cell_type": "markdown",
   "metadata": {},
   "source": [
    "# Exercise I: Your own Python module "
   ]
  },
  {
   "cell_type": "code",
   "execution_count": 1,
   "metadata": {},
   "outputs": [
    {
     "name": "stdout",
     "output_type": "stream",
     "text": [
      "running in Colab: False\n"
     ]
    }
   ],
   "source": [
    "#check if notebook runs in colab\n",
    "import sys\n",
    "IN_COLAB = 'google.colab' in sys.modules\n",
    "print('running in Colab:',IN_COLAB)\n",
    "path='..'\n",
    "if IN_COLAB:\n",
    "  #in colab, we need to clone the data from the repo\n",
    "  !git clone https://github.com/keuperj/DataScienceSS20.git\n",
    "  path='DataScienceSS20'\n",
    "  import sys\n",
    "  sys.path.append(path+'/Exercises/')"
   ]
  },
  {
   "cell_type": "markdown",
   "metadata": {},
   "source": [
    "Write your own python module (choose a name) with the following properties:\n",
    "\n",
    "1. start new python file for the module\n",
    "2. define a class ***ListKeeper*** with the following properties and API:\n",
    "   1. ***Listkeeper*** strores named lists (hint: use dictionaries) \n",
    "   2. it initializes with a list named *example*: [1,2,3,4,5]\n",
    "   3. ``show()`` returns all list names\n",
    "   4. ``add(name, list)`` adds a new list\n",
    "   5. ``delete(name)`` deletes list\n",
    "   6. ``sort(name)`` returns the sorted list *name*\n",
    "   7. ``append(name, list)`` appends *list* to *name* \n",
    "3. add comments and documentation to your class\n",
    "4. Import your module in this notebook\n",
    "5. write tests to check the functionality of your class "
   ]
  },
  {
   "cell_type": "code",
   "execution_count": 2,
   "metadata": {},
   "outputs": [],
   "source": [
    "import ListKeeper as lk\n",
    "import unittest\n",
    "\n",
    "class WidgetTestCase(unittest.TestCase):\n",
    "    def setUp(self):\n",
    "        self.lk = lk.ListKeeper()\n",
    "\n",
    "    def tearDown(self):\n",
    "        pass\n",
    "\n",
    "    def test_show(self):\n",
    "        self.assertEqual(self.lk.show(), ['example'])\n",
    "\n",
    "    def test_add(self):\n",
    "        self.lk.add('test', ['A', 'B', 'C'])\n",
    "        self.assertEqual(self.lk.show(), ['example', 'test'])\n",
    "\n",
    "    def test_delete(self):\n",
    "        self.lk.dict # call dictonary before deletion otherwise dict object instead of str required (not reproducable)\n",
    "        self.lk.delete('example')\n",
    "        self.assertEqual(self.lk.show(), [])\n",
    "    \n",
    "    def test_sort(self):\n",
    "        self.lk.add('test', [20, 195, 3])\n",
    "        self.lk.add('test2', ['Z', 'F', 'LL', 'B'])\n",
    "        self.lk.add('test3', [1, 'A', 43, 'hs'])\n",
    "        self.assertEqual(self.lk.sort('test'), [3, 20, 195])\n",
    "        self.assertEqual(self.lk.sort('test2'), ['B', 'F', 'LL', 'Z'])\n",
    "        # check that lk.sort fails when sorting values of type str and int\n",
    "        with self.assertRaises(TypeError):\n",
    "            self.lk.sort('test3')\n",
    "        \n",
    "    def test_append(self):\n",
    "        self.lk.append('example', [88, 24, 398])\n",
    "        self.assertEqual(self.lk.dict['example'], [1, 2, 3, 4, 5, 88, 24, 398])\n",
    "            "
   ]
  },
  {
   "cell_type": "markdown",
   "metadata": {},
   "source": [
    "### Levels of Verbosity\n",
    "#### Verbosity = 0 (quiet) – get the total numbers of tests executed and the global result\n",
    "#### Verbosity = 1 (default) – quiet + a dot for every successful test or a F for every failure\n",
    "#### Verbosity = 2 (verbose) – help string of every test and the result"
   ]
  },
  {
   "cell_type": "code",
   "execution_count": 3,
   "metadata": {},
   "outputs": [
    {
     "name": "stderr",
     "output_type": "stream",
     "text": [
      "test_add (__main__.WidgetTestCase) ... ok\n",
      "test_append (__main__.WidgetTestCase) ... ok\n",
      "test_delete (__main__.WidgetTestCase) ... ok\n",
      "test_show (__main__.WidgetTestCase) ... ok\n",
      "test_sort (__main__.WidgetTestCase) ... ok\n",
      "\n",
      "----------------------------------------------------------------------\n",
      "Ran 5 tests in 0.010s\n",
      "\n",
      "OK\n"
     ]
    },
    {
     "data": {
      "text/plain": [
       "<unittest.main.TestProgram at 0x20fa7e51be0>"
      ]
     },
     "execution_count": 3,
     "metadata": {},
     "output_type": "execute_result"
    }
   ],
   "source": [
    "unittest.main(argv=[''], verbosity=2, exit=False)"
   ]
  }
 ],
 "metadata": {
  "kernelspec": {
   "display_name": "Python 3",
   "language": "python",
   "name": "python3"
  },
  "language_info": {
   "codemirror_mode": {
    "name": "ipython",
    "version": 3
   },
   "file_extension": ".py",
   "mimetype": "text/x-python",
   "name": "python",
   "nbconvert_exporter": "python",
   "pygments_lexer": "ipython3",
   "version": "3.6.12"
  }
 },
 "nbformat": 4,
 "nbformat_minor": 4
}
