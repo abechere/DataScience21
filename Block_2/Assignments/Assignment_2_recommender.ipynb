{
 "cells": [
  {
   "cell_type": "markdown",
   "metadata": {},
   "source": [
    "# Assignment 2: recommender System"
   ]
  },
  {
   "cell_type": "markdown",
   "metadata": {},
   "source": [
    "## Code from the lecture"
   ]
  },
  {
   "cell_type": "code",
   "execution_count": 1,
   "metadata": {},
   "outputs": [],
   "source": [
    "#read data to DataFrames\n",
    "import pandas as pd\n",
    "import numpy as np\n",
    "%matplotlib inline\n",
    "import matplotlib.pyplot as plt\n",
    "\n",
    "u_cols = ['user_id', 'age', 'sex', 'occupation', 'zip_code']\n",
    "users = pd.read_csv('../../DATA/movielens100k/u.user', sep='|', names=u_cols, encoding = \"ISO-8859-1\")\n",
    "\n",
    "r_cols = ['user_id', 'movie_id', 'rating', 'timestamp']\n",
    "ratings = pd.read_csv('../../DATA/movielens100k/u.data', sep='\\t', names=r_cols, encoding = \"ISO-8859-1\")\n",
    "\n",
    "m_cols=['movie_id', 'title', 'release date', 'video release date', 'IMDb_URL', 'unknown', 'Action', 'Adventure', 'Animation', 'Childrens', 'Comedy', 'Crime', 'Documentary', 'Drama', 'Fantasy', 'Film-Noir', 'Horror', 'Musical', 'Mystery', 'Romance', 'Sci-Fi', 'Thriller', 'War', 'Western']\n",
    "movies = pd.read_csv('../../DATA/movielens100k/u.item', sep='|', names=m_cols ,encoding = \"ISO-8859-1\" )"
   ]
  },
  {
   "cell_type": "code",
   "execution_count": 2,
   "metadata": {},
   "outputs": [],
   "source": [
    "#generate matrix (this can be done more efficiently!)\n",
    "R=np.zeros((np.shape(users)[0],np.shape(movies)[0]))\n",
    "for i in range(np.shape(ratings)[0]):\n",
    "    R[ratings['user_id'][i]-1, ratings['movie_id'][i]-1]=ratings['rating'][i]"
   ]
  },
  {
   "cell_type": "code",
   "execution_count": 3,
   "metadata": {},
   "outputs": [],
   "source": [
    "def CosineDist(a,b):\n",
    "    return a.dot(b)/(np.linalg.norm(a)*np.linalg.norm(b))"
   ]
  },
  {
   "cell_type": "code",
   "execution_count": 4,
   "metadata": {},
   "outputs": [],
   "source": [
    "#again, implementation not efficient: better use lamda opperators \n",
    "D=np.zeros((np.shape(movies)[0],np.shape(movies)[0]))\n",
    "for i in range(0,np.shape(movies)[0]):\n",
    "    for j in range(0,np.shape(movies)[0]):\n",
    "        if i!=j:\n",
    "            D[i,j]=CosineDist(R[:,i],R[:,j])"
   ]
  },
  {
   "cell_type": "code",
   "execution_count": 35,
   "metadata": {},
   "outputs": [],
   "source": [
    "def getTopN(movie_id,D,N=5):\n",
    "    return D[movie_id,:].argsort()[-N:]\n",
    "\n",
    "def getIDbyName(name):\n",
    "    if np.size(movies.movie_id[movies.title.str.contains(name)]) > 0:\n",
    "        m = int(movies.movie_id[movies.title.str.contains(name)][:1]), str(movies.title[movies.title.str.contains(name)][:1])\n",
    "        return m[0]-1\n",
    "    else:\n",
    "        return -1\n",
    "    \n",
    "def getNameByID(IDs):\n",
    "    res=movies.iloc[IDs]\n",
    "    return res.title\n",
    "\n",
    "def CII(title, D):\n",
    "    if getIDbyName(title) > 0:\n",
    "        print (\"recommending movies for: '\" + str(getNameByID(getIDbyName(title)))+\"'\")\n",
    "        return getNameByID(getTopN(getIDbyName(title),D))[::-1]\n",
    "    else:\n",
    "        print (\"no movie title containing \" + str(title) + \"found...\")\n",
    "        \n",
    "def Score_byID(ID, D, Test):\n",
    "    #print (\"Hit Scores for: \", getNameByID(ID))\n",
    "    res_id = getTopN(ID,D)[::-1]\n",
    "    res_title = getNameByID(getTopN(ID,D))[::-1]\n",
    "    res_score = Test[res_id]\n",
    "    return res_id, res_title, res_score, np.mean(res_score)\n",
    "    \n",
    "#compute scores for all test users\n",
    "def test_Score(D_train, R_test):\n",
    "    userScores=[]\n",
    "    for i in range(R_test.shape[0]):\n",
    "        userScore=0\n",
    "        userTop = np.argsort(R_test[i])[-5:]\n",
    "        for e in userTop:\n",
    "            res_id, res_title, res_score, av_score = Score_byID(e,D_train, R_test[i])\n",
    "            userScore+=av_score\n",
    "        userScores.append(userScore/(5))\n",
    "    return userScores"
   ]
  },
  {
   "cell_type": "markdown",
   "metadata": {},
   "source": [
    "## 4.1 Alternative Distance Measures\n",
    "Implement a different distance measure, e.g. eucledian and compare the ressults.\n",
    "\n",
    "### Euklidischer Abstand:\n",
    "$\\vec{p},\\vec{q}$ in $R$ gilt die Distanz:<BR><BR>\n",
    "$d(\\vec{p},\\vec{q}) := {||\\vec{q}-\\vec{p}||_{2}} = {\\sqrt{{(q_1-p_1)²} \\ + \\ ... \\ + \\ {(q_n-p_n)²}}} $ <BR><BR>"
   ]
  },
  {
   "cell_type": "code",
   "execution_count": 9,
   "metadata": {},
   "outputs": [],
   "source": [
    "def euklidDist(p,q):\n",
    "    return np.linalg.norm(q-p)"
   ]
  },
  {
   "cell_type": "code",
   "execution_count": 41,
   "metadata": {},
   "outputs": [],
   "source": [
    "#again, implementation not efficient: better use lamda opperators \n",
    "D2=np.zeros((np.shape(movies)[0],np.shape(movies)[0]))\n",
    "for i in range(0,np.shape(movies)[0]):\n",
    "    for j in range(0,np.shape(movies)[0]):\n",
    "        if i!=j:\n",
    "            D2[i,j]=euklidDist(R[:,i],R[:,j])"
   ]
  },
  {
   "cell_type": "code",
   "execution_count": 65,
   "metadata": {},
   "outputs": [],
   "source": [
    "D3=np.zeros((np.shape(movies)[0],np.shape(movies)[0]))\n",
    "mask = [(i, j) for i in range(0,np.shape(movies)[0]) for j in range(0,np.shape(movies)[0]) if i!=j]\n",
    "for i, j in mask:\n",
    "    D3[i,j] = euklidDist(R[:,i],R[:,j])"
   ]
  },
  {
   "cell_type": "code",
   "execution_count": null,
   "metadata": {},
   "outputs": [],
   "source": [
    "#[euklidDist(R[:,i],R[:,j]) for i in range(0,np.shape(movies)[0]) for j in range(0,np.shape(movies)[0]) if i!=j]"
   ]
  },
  {
   "cell_type": "code",
   "execution_count": 81,
   "metadata": {},
   "outputs": [],
   "source": [
    "assert D2[4,4]==D3[4,4], \"D2 and D3 aren't the same\""
   ]
  },
  {
   "cell_type": "code",
   "execution_count": 30,
   "metadata": {},
   "outputs": [
    {
     "data": {
      "text/plain": [
       "array([1242,  937, 1126, 1061,  989])"
      ]
     },
     "execution_count": 30,
     "metadata": {},
     "output_type": "execute_result"
    }
   ],
   "source": [
    "# Recommendations by using eucledian distance\n",
    "D2[getIDbyName('Star Wars'),:].argsort()[-5:]"
   ]
  },
  {
   "cell_type": "code",
   "execution_count": 31,
   "metadata": {},
   "outputs": [
    {
     "data": {
      "text/plain": [
       "array([126,   0, 171, 173, 180])"
      ]
     },
     "execution_count": 31,
     "metadata": {},
     "output_type": "execute_result"
    }
   ],
   "source": [
    "# Recommendations by using cosine distance\n",
    "D[getIDbyName('Star Wars'),:].argsort()[-5:]"
   ]
  },
  {
   "cell_type": "code",
   "execution_count": 36,
   "metadata": {},
   "outputs": [
    {
     "name": "stdout",
     "output_type": "stream",
     "text": [
      "recommending movies for: 'Star Wars (1977)'\n"
     ]
    },
    {
     "data": {
      "text/plain": [
       "180          Return of the Jedi (1983)\n",
       "173     Raiders of the Lost Ark (1981)\n",
       "171    Empire Strikes Back, The (1980)\n",
       "0                     Toy Story (1995)\n",
       "126              Godfather, The (1972)\n",
       "Name: title, dtype: object"
      ]
     },
     "execution_count": 36,
     "metadata": {},
     "output_type": "execute_result"
    }
   ],
   "source": [
    "CII('Star Wars', D)"
   ]
  },
  {
   "cell_type": "code",
   "execution_count": 37,
   "metadata": {},
   "outputs": [
    {
     "name": "stdout",
     "output_type": "stream",
     "text": [
      "recommending movies for: 'Star Wars (1977)'\n"
     ]
    },
    {
     "data": {
      "text/plain": [
       "989              Anna Karenina (1997)\n",
       "1061    Four Days in September (1997)\n",
       "1126          Truman Show, The (1998)\n",
       "937        Smile Like Yours, A (1997)\n",
       "1242               Night Flier (1997)\n",
       "Name: title, dtype: object"
      ]
     },
     "execution_count": 37,
     "metadata": {},
     "output_type": "execute_result"
    }
   ],
   "source": [
    "CII('Star Wars', D2)"
   ]
  },
  {
   "cell_type": "markdown",
   "metadata": {},
   "source": [
    "## 4.2 Baseline Results\n",
    "Implement and compare results of\n",
    "* random recommendations\n",
    "* always recommending the top 5 movies (over all users)"
   ]
  },
  {
   "cell_type": "code",
   "execution_count": 69,
   "metadata": {},
   "outputs": [],
   "source": [
    "#split into train and test data\n",
    "from sklearn.model_selection import train_test_split\n",
    "R_train, R_test = train_test_split(R, test_size=0.1)"
   ]
  },
  {
   "cell_type": "code",
   "execution_count": 71,
   "metadata": {},
   "outputs": [
    {
     "name": "stderr",
     "output_type": "stream",
     "text": [
      "<ipython-input-3-3cbf2a24b2d9>:2: RuntimeWarning: invalid value encountered in double_scalars\n",
      "  return a.dot(b)/(np.linalg.norm(a)*np.linalg.norm(b))\n"
     ]
    }
   ],
   "source": [
    "DCos=np.zeros((np.shape(movies)[0],np.shape(movies)[0]))\n",
    "mask = [(i, j) for i in range(0,np.shape(movies)[0]) for j in range(0,np.shape(movies)[0]) if i!=j]\n",
    "for i, j in mask:\n",
    "    DCos[i,j] = CosineDist(R_train[:,i],R_train[:,j])\n",
    "    \n",
    "DEuc=np.zeros((np.shape(movies)[0],np.shape(movies)[0]))\n",
    "mask = [(i, j) for i in range(0,np.shape(movies)[0]) for j in range(0,np.shape(movies)[0]) if i!=j]\n",
    "for i, j in mask:\n",
    "    DEuc[i,j] = euklidDist(R_train[:,i],R_train[:,j])  "
   ]
  },
  {
   "cell_type": "code",
   "execution_count": 80,
   "metadata": {},
   "outputs": [],
   "source": [
    "assert DCos[2,0]!=DEuc[2,0], \"D2 and D3 shouldn't be the same\""
   ]
  },
  {
   "cell_type": "markdown",
   "metadata": {},
   "source": [
    "## 4.3 SVD\n",
    "Implement the SVD approach. Hints: \n",
    "* use numpy.linalg.svd()\n",
    "* apply SVD on $D$\n",
    "* plot the singular values and decide where to cut off the reconstruction\n",
    "* reconstruct and evaluate $D'$\n"
   ]
  }
 ],
 "metadata": {
  "kernelspec": {
   "display_name": "Python 3",
   "language": "python",
   "name": "python3"
  },
  "language_info": {
   "codemirror_mode": {
    "name": "ipython",
    "version": 3
   },
   "file_extension": ".py",
   "mimetype": "text/x-python",
   "name": "python",
   "nbconvert_exporter": "python",
   "pygments_lexer": "ipython3",
   "version": "3.8.5"
  }
 },
 "nbformat": 4,
 "nbformat_minor": 4
}
